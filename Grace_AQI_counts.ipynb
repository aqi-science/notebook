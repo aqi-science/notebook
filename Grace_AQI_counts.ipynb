{
 "cells": [
  {
   "cell_type": "code",
   "execution_count": 1,
   "id": "172f8321-a816-4acd-b7b4-8203f64cfbe0",
   "metadata": {},
   "outputs": [],
   "source": [
    "import pandas as pd\n",
    "import numpy as np\n",
    "import zipfile"
   ]
  },
  {
   "cell_type": "code",
   "execution_count": 15,
   "id": "d7159769-a176-4859-bce2-36124243d35d",
   "metadata": {},
   "outputs": [],
   "source": [
    "aqi = pd.read_csv('data/aqi_df.csv', usecols={'State Name',\n",
    "                                            'county Name',\n",
    "                                            'Date',\n",
    "                                            'AQI',\n",
    "                                            'Category',\n",
    "                                            'Defining Parameter',\n",
    "                                            'Defining Site',\n",
    "                                            'Number of Sites Reporting'})\n",
    "\n",
    "# set columns to strings to keep leading zeros\n",
    "dtype_dic= {'State Code':str,\n",
    "            'County Code':str,\n",
    "            'Site Number':str}\n",
    "dtype = dtype_dic\n",
    "\n",
    "# monitors=pd.read_csv('data/aqs_monitors.csv', usecols ={'State Code',\n",
    "#                                                         'County Code',\n",
    "#                                                         'Site Number',\n",
    "#                                                         'Latitude',\n",
    "#                                                         'Longitude',\n",
    "#                                                         'Monitor Type'},\n",
    "#                     dtype=dtype_dic)"
   ]
  },
  {
   "cell_type": "code",
   "execution_count": 16,
   "id": "df771f25-0154-4116-847f-d7e3b2383a9b",
   "metadata": {},
   "outputs": [
    {
     "data": {
      "text/html": [
       "<div>\n",
       "<style scoped>\n",
       "    .dataframe tbody tr th:only-of-type {\n",
       "        vertical-align: middle;\n",
       "    }\n",
       "\n",
       "    .dataframe tbody tr th {\n",
       "        vertical-align: top;\n",
       "    }\n",
       "\n",
       "    .dataframe thead th {\n",
       "        text-align: right;\n",
       "    }\n",
       "</style>\n",
       "<table border=\"1\" class=\"dataframe\">\n",
       "  <thead>\n",
       "    <tr style=\"text-align: right;\">\n",
       "      <th></th>\n",
       "      <th>State Name</th>\n",
       "      <th>county Name</th>\n",
       "      <th>Date</th>\n",
       "      <th>AQI</th>\n",
       "      <th>Category</th>\n",
       "      <th>Defining Parameter</th>\n",
       "      <th>Defining Site</th>\n",
       "      <th>Number of Sites Reporting</th>\n",
       "    </tr>\n",
       "  </thead>\n",
       "  <tbody>\n",
       "    <tr>\n",
       "      <th>0</th>\n",
       "      <td>Alabama</td>\n",
       "      <td>DeKalb</td>\n",
       "      <td>2021-01-01</td>\n",
       "      <td>30</td>\n",
       "      <td>Good</td>\n",
       "      <td>Ozone</td>\n",
       "      <td>01-049-9991</td>\n",
       "      <td>1</td>\n",
       "    </tr>\n",
       "    <tr>\n",
       "      <th>1</th>\n",
       "      <td>Alabama</td>\n",
       "      <td>DeKalb</td>\n",
       "      <td>2021-01-02</td>\n",
       "      <td>27</td>\n",
       "      <td>Good</td>\n",
       "      <td>Ozone</td>\n",
       "      <td>01-049-9991</td>\n",
       "      <td>1</td>\n",
       "    </tr>\n",
       "    <tr>\n",
       "      <th>2</th>\n",
       "      <td>Alabama</td>\n",
       "      <td>DeKalb</td>\n",
       "      <td>2021-01-03</td>\n",
       "      <td>34</td>\n",
       "      <td>Good</td>\n",
       "      <td>Ozone</td>\n",
       "      <td>01-049-9991</td>\n",
       "      <td>1</td>\n",
       "    </tr>\n",
       "    <tr>\n",
       "      <th>3</th>\n",
       "      <td>Alabama</td>\n",
       "      <td>DeKalb</td>\n",
       "      <td>2021-01-04</td>\n",
       "      <td>36</td>\n",
       "      <td>Good</td>\n",
       "      <td>Ozone</td>\n",
       "      <td>01-049-9991</td>\n",
       "      <td>1</td>\n",
       "    </tr>\n",
       "    <tr>\n",
       "      <th>4</th>\n",
       "      <td>Alabama</td>\n",
       "      <td>DeKalb</td>\n",
       "      <td>2021-01-05</td>\n",
       "      <td>31</td>\n",
       "      <td>Good</td>\n",
       "      <td>Ozone</td>\n",
       "      <td>01-049-9991</td>\n",
       "      <td>1</td>\n",
       "    </tr>\n",
       "  </tbody>\n",
       "</table>\n",
       "</div>"
      ],
      "text/plain": [
       "  State Name county Name        Date  AQI Category Defining Parameter  \\\n",
       "0    Alabama      DeKalb  2021-01-01   30     Good              Ozone   \n",
       "1    Alabama      DeKalb  2021-01-02   27     Good              Ozone   \n",
       "2    Alabama      DeKalb  2021-01-03   34     Good              Ozone   \n",
       "3    Alabama      DeKalb  2021-01-04   36     Good              Ozone   \n",
       "4    Alabama      DeKalb  2021-01-05   31     Good              Ozone   \n",
       "\n",
       "  Defining Site  Number of Sites Reporting  \n",
       "0   01-049-9991                          1  \n",
       "1   01-049-9991                          1  \n",
       "2   01-049-9991                          1  \n",
       "3   01-049-9991                          1  \n",
       "4   01-049-9991                          1  "
      ]
     },
     "execution_count": 16,
     "metadata": {},
     "output_type": "execute_result"
    }
   ],
   "source": [
    "aqi.head()"
   ]
  },
  {
   "cell_type": "code",
   "execution_count": 17,
   "id": "eb828d97-39b2-4acd-ba04-9ec9aa961dba",
   "metadata": {},
   "outputs": [],
   "source": [
    "aqi['Date'] = pd.to_datetime(aqi['Date'])"
   ]
  },
  {
   "cell_type": "code",
   "execution_count": 18,
   "id": "4e645fb2-c34f-4193-aa73-7617ecb38b59",
   "metadata": {},
   "outputs": [
    {
     "data": {
      "text/plain": [
       "dtype('<M8[ns]')"
      ]
     },
     "execution_count": 18,
     "metadata": {},
     "output_type": "execute_result"
    }
   ],
   "source": [
    "aqi['Date'].dtypes"
   ]
  },
  {
   "cell_type": "code",
   "execution_count": 19,
   "id": "84de648c-feeb-44b0-816b-4128148151a3",
   "metadata": {},
   "outputs": [
    {
     "data": {
      "text/plain": [
       "array(['Good', 'Moderate', 'Unhealthy for Sensitive Groups',\n",
       "       'Very Unhealthy', 'Unhealthy', 'Hazardous'], dtype=object)"
      ]
     },
     "execution_count": 19,
     "metadata": {},
     "output_type": "execute_result"
    }
   ],
   "source": [
    "aqi['Category'].unique()"
   ]
  },
  {
   "cell_type": "code",
   "execution_count": 27,
   "id": "4e313853-d00c-429a-930b-2f6e661e5f46",
   "metadata": {},
   "outputs": [
    {
     "data": {
      "text/html": [
       "<div>\n",
       "<style scoped>\n",
       "    .dataframe tbody tr th:only-of-type {\n",
       "        vertical-align: middle;\n",
       "    }\n",
       "\n",
       "    .dataframe tbody tr th {\n",
       "        vertical-align: top;\n",
       "    }\n",
       "\n",
       "    .dataframe thead th {\n",
       "        text-align: right;\n",
       "    }\n",
       "</style>\n",
       "<table border=\"1\" class=\"dataframe\">\n",
       "  <thead>\n",
       "    <tr style=\"text-align: right;\">\n",
       "      <th></th>\n",
       "      <th>State Name</th>\n",
       "      <th>county Name</th>\n",
       "      <th>Date</th>\n",
       "      <th>AQI</th>\n",
       "      <th>Category</th>\n",
       "      <th>Defining Parameter</th>\n",
       "      <th>Defining Site</th>\n",
       "      <th>Number of Sites Reporting</th>\n",
       "    </tr>\n",
       "  </thead>\n",
       "  <tbody>\n",
       "    <tr>\n",
       "      <th>623</th>\n",
       "      <td>Arizona</td>\n",
       "      <td>Maricopa</td>\n",
       "      <td>2021-01-01</td>\n",
       "      <td>272</td>\n",
       "      <td>Very Unhealthy</td>\n",
       "      <td>PM2.5</td>\n",
       "      <td>04-013-0019</td>\n",
       "      <td>24</td>\n",
       "    </tr>\n",
       "    <tr>\n",
       "      <th>627</th>\n",
       "      <td>Arizona</td>\n",
       "      <td>Maricopa</td>\n",
       "      <td>2021-01-05</td>\n",
       "      <td>176</td>\n",
       "      <td>Unhealthy</td>\n",
       "      <td>Ozone</td>\n",
       "      <td>04-013-5100</td>\n",
       "      <td>24</td>\n",
       "    </tr>\n",
       "    <tr>\n",
       "      <th>628</th>\n",
       "      <td>Arizona</td>\n",
       "      <td>Maricopa</td>\n",
       "      <td>2021-01-06</td>\n",
       "      <td>156</td>\n",
       "      <td>Unhealthy</td>\n",
       "      <td>Ozone</td>\n",
       "      <td>04-013-5100</td>\n",
       "      <td>24</td>\n",
       "    </tr>\n",
       "    <tr>\n",
       "      <th>631</th>\n",
       "      <td>Arizona</td>\n",
       "      <td>Maricopa</td>\n",
       "      <td>2021-01-09</td>\n",
       "      <td>154</td>\n",
       "      <td>Unhealthy</td>\n",
       "      <td>Ozone</td>\n",
       "      <td>04-013-5100</td>\n",
       "      <td>24</td>\n",
       "    </tr>\n",
       "    <tr>\n",
       "      <th>632</th>\n",
       "      <td>Arizona</td>\n",
       "      <td>Maricopa</td>\n",
       "      <td>2021-01-10</td>\n",
       "      <td>169</td>\n",
       "      <td>Unhealthy</td>\n",
       "      <td>Ozone</td>\n",
       "      <td>04-013-5100</td>\n",
       "      <td>24</td>\n",
       "    </tr>\n",
       "  </tbody>\n",
       "</table>\n",
       "</div>"
      ],
      "text/plain": [
       "    State Name county Name       Date  AQI        Category Defining Parameter  \\\n",
       "623    Arizona    Maricopa 2021-01-01  272  Very Unhealthy              PM2.5   \n",
       "627    Arizona    Maricopa 2021-01-05  176       Unhealthy              Ozone   \n",
       "628    Arizona    Maricopa 2021-01-06  156       Unhealthy              Ozone   \n",
       "631    Arizona    Maricopa 2021-01-09  154       Unhealthy              Ozone   \n",
       "632    Arizona    Maricopa 2021-01-10  169       Unhealthy              Ozone   \n",
       "\n",
       "    Defining Site  Number of Sites Reporting  \n",
       "623   04-013-0019                         24  \n",
       "627   04-013-5100                         24  \n",
       "628   04-013-5100                         24  \n",
       "631   04-013-5100                         24  \n",
       "632   04-013-5100                         24  "
      ]
     },
     "execution_count": 27,
     "metadata": {},
     "output_type": "execute_result"
    }
   ],
   "source": [
    "aqi_unhealthy = aqi[aqi['AQI'] > 150]\n",
    "aqi_unhealthy.head()"
   ]
  },
  {
   "cell_type": "code",
   "execution_count": 28,
   "id": "d11380b0-6f42-4d82-ad35-541a75dd27a6",
   "metadata": {},
   "outputs": [
    {
     "data": {
      "text/plain": [
       "172850"
      ]
     },
     "execution_count": 28,
     "metadata": {},
     "output_type": "execute_result"
    }
   ],
   "source": [
    "len(aqi_unhealthy)"
   ]
  },
  {
   "cell_type": "code",
   "execution_count": 33,
   "id": "059c4379-7e08-4763-9fdd-3cc46f0d701c",
   "metadata": {},
   "outputs": [
    {
     "name": "stderr",
     "output_type": "stream",
     "text": [
      "/Users/Grace/opt/anaconda3/envs/eds222/lib/python3.9/site-packages/pandas/core/indexing.py:1773: SettingWithCopyWarning: \n",
      "A value is trying to be set on a copy of a slice from a DataFrame.\n",
      "Try using .loc[row_indexer,col_indexer] = value instead\n",
      "\n",
      "See the caveats in the documentation: https://pandas.pydata.org/pandas-docs/stable/user_guide/indexing.html#returning-a-view-versus-a-copy\n",
      "  self._setitem_single_column(ilocs[0], value, pi)\n"
     ]
    }
   ],
   "source": [
    "aqi_unhealthy.loc[:, ('year')] = aqi_unhealthy.loc[:, ('Date')].dt.year"
   ]
  },
  {
   "cell_type": "code",
   "execution_count": 34,
   "id": "7d07fe10-daf0-48d8-81a4-5803ea7b72e6",
   "metadata": {},
   "outputs": [
    {
     "data": {
      "text/html": [
       "<div>\n",
       "<style scoped>\n",
       "    .dataframe tbody tr th:only-of-type {\n",
       "        vertical-align: middle;\n",
       "    }\n",
       "\n",
       "    .dataframe tbody tr th {\n",
       "        vertical-align: top;\n",
       "    }\n",
       "\n",
       "    .dataframe thead th {\n",
       "        text-align: right;\n",
       "    }\n",
       "</style>\n",
       "<table border=\"1\" class=\"dataframe\">\n",
       "  <thead>\n",
       "    <tr style=\"text-align: right;\">\n",
       "      <th></th>\n",
       "      <th>State Name</th>\n",
       "      <th>county Name</th>\n",
       "      <th>Date</th>\n",
       "      <th>AQI</th>\n",
       "      <th>Category</th>\n",
       "      <th>Defining Parameter</th>\n",
       "      <th>Defining Site</th>\n",
       "      <th>Number of Sites Reporting</th>\n",
       "      <th>year</th>\n",
       "    </tr>\n",
       "  </thead>\n",
       "  <tbody>\n",
       "    <tr>\n",
       "      <th>623</th>\n",
       "      <td>Arizona</td>\n",
       "      <td>Maricopa</td>\n",
       "      <td>2021-01-01</td>\n",
       "      <td>272</td>\n",
       "      <td>Very Unhealthy</td>\n",
       "      <td>PM2.5</td>\n",
       "      <td>04-013-0019</td>\n",
       "      <td>24</td>\n",
       "      <td>2021</td>\n",
       "    </tr>\n",
       "    <tr>\n",
       "      <th>627</th>\n",
       "      <td>Arizona</td>\n",
       "      <td>Maricopa</td>\n",
       "      <td>2021-01-05</td>\n",
       "      <td>176</td>\n",
       "      <td>Unhealthy</td>\n",
       "      <td>Ozone</td>\n",
       "      <td>04-013-5100</td>\n",
       "      <td>24</td>\n",
       "      <td>2021</td>\n",
       "    </tr>\n",
       "    <tr>\n",
       "      <th>628</th>\n",
       "      <td>Arizona</td>\n",
       "      <td>Maricopa</td>\n",
       "      <td>2021-01-06</td>\n",
       "      <td>156</td>\n",
       "      <td>Unhealthy</td>\n",
       "      <td>Ozone</td>\n",
       "      <td>04-013-5100</td>\n",
       "      <td>24</td>\n",
       "      <td>2021</td>\n",
       "    </tr>\n",
       "    <tr>\n",
       "      <th>631</th>\n",
       "      <td>Arizona</td>\n",
       "      <td>Maricopa</td>\n",
       "      <td>2021-01-09</td>\n",
       "      <td>154</td>\n",
       "      <td>Unhealthy</td>\n",
       "      <td>Ozone</td>\n",
       "      <td>04-013-5100</td>\n",
       "      <td>24</td>\n",
       "      <td>2021</td>\n",
       "    </tr>\n",
       "    <tr>\n",
       "      <th>632</th>\n",
       "      <td>Arizona</td>\n",
       "      <td>Maricopa</td>\n",
       "      <td>2021-01-10</td>\n",
       "      <td>169</td>\n",
       "      <td>Unhealthy</td>\n",
       "      <td>Ozone</td>\n",
       "      <td>04-013-5100</td>\n",
       "      <td>24</td>\n",
       "      <td>2021</td>\n",
       "    </tr>\n",
       "  </tbody>\n",
       "</table>\n",
       "</div>"
      ],
      "text/plain": [
       "    State Name county Name       Date  AQI        Category Defining Parameter  \\\n",
       "623    Arizona    Maricopa 2021-01-01  272  Very Unhealthy              PM2.5   \n",
       "627    Arizona    Maricopa 2021-01-05  176       Unhealthy              Ozone   \n",
       "628    Arizona    Maricopa 2021-01-06  156       Unhealthy              Ozone   \n",
       "631    Arizona    Maricopa 2021-01-09  154       Unhealthy              Ozone   \n",
       "632    Arizona    Maricopa 2021-01-10  169       Unhealthy              Ozone   \n",
       "\n",
       "    Defining Site  Number of Sites Reporting  year  \n",
       "623   04-013-0019                         24  2021  \n",
       "627   04-013-5100                         24  2021  \n",
       "628   04-013-5100                         24  2021  \n",
       "631   04-013-5100                         24  2021  \n",
       "632   04-013-5100                         24  2021  "
      ]
     },
     "execution_count": 34,
     "metadata": {},
     "output_type": "execute_result"
    }
   ],
   "source": [
    "aqi_unhealthy.head()"
   ]
  },
  {
   "cell_type": "code",
   "execution_count": 66,
   "id": "59580c53-7168-4208-a48b-dc4bfa75066c",
   "metadata": {},
   "outputs": [],
   "source": [
    "counts_aqi_unhealthy = aqi_unhealthy.groupby('year').size().reset_index(name='count')\n",
    "#counts_aqi_unhealthy"
   ]
  },
  {
   "cell_type": "code",
   "execution_count": 73,
   "id": "df98c4c8-f05a-4b3b-9e19-d7341ef8e711",
   "metadata": {},
   "outputs": [
    {
     "data": {
      "text/plain": [
       "<AxesSubplot:title={'center':'Number of Days with an AQI above 150 in the US \\nfrom 1980-2021'}, xlabel='year'>"
      ]
     },
     "execution_count": 73,
     "metadata": {},
     "output_type": "execute_result"
    },
    {
     "data": {
      "image/png": "[encoded data removed]",
      "text/plain": [
       "<Figure size 432x288 with 1 Axes>"
      ]
     },
     "metadata": {
      "needs_background": "light"
     },
     "output_type": "display_data"
    }
   ],
   "source": [
    "counts_aqi_unhealthy.plot(x = 'year', \n",
    "                          y = 'count', \n",
    "                          legend = False, \n",
    "                          grid = True, \n",
    "                          title = 'Number of Days with an AQI above 150 in the US \\nfrom 1980-2021')"
   ]
  },
  {
   "cell_type": "markdown",
   "id": "581b5c0e-8bd1-4082-8ebc-b4e937af9e2e",
   "metadata": {},
   "source": [
    "## Now for just California"
   ]
  },
  {
   "cell_type": "code",
   "execution_count": 80,
   "id": "59c35bd5-185d-424b-8c55-54581f1632d6",
   "metadata": {},
   "outputs": [],
   "source": [
    "aqi_unhealthy_ca = aqi_unhealthy[aqi_unhealthy['State Name'] == 'California']\n",
    "#aqi_unhealthy_ca.head()"
   ]
  },
  {
   "cell_type": "code",
   "execution_count": 78,
   "id": "6cc22489-b5e3-45f8-9a0d-5c35d598e34d",
   "metadata": {},
   "outputs": [],
   "source": [
    "counts_aqi_unhealthy_ca = aqi_unhealthy_ca.groupby('year').size().reset_index(name='count')"
   ]
  },
  {
   "cell_type": "code",
   "execution_count": 79,
   "id": "45b5cd7c-dc04-4752-8141-340dfe3b4be0",
   "metadata": {},
   "outputs": [
    {
     "data": {
      "text/plain": [
       "<AxesSubplot:title={'center':'Number of Days with an AQI above 150 in CA \\nfrom 1980-2021'}, xlabel='year'>"
      ]
     },
     "execution_count": 79,
     "metadata": {},
     "output_type": "execute_result"
    },
    {
     "data": {
      "image/png": "[encoded data removed]",
      "text/plain": [
       "<Figure size 432x288 with 1 Axes>"
      ]
     },
     "metadata": {
      "needs_background": "light"
     },
     "output_type": "display_data"
    }
   ],
   "source": [
    "counts_aqi_unhealthy_ca.plot(x = 'year', \n",
    "                          y = 'count', \n",
    "                          legend = False, \n",
    "                          grid = True, \n",
    "                          title = 'Number of Days with an AQI above 150 in CA \\nfrom 1980-2021')"
   ]
  },
  {
   "cell_type": "markdown",
   "id": "a1d38358-496b-4258-addc-9d0edd1a1c22",
   "metadata": {},
   "source": [
    "## Now for Colorado"
   ]
  },
  {
   "cell_type": "code",
   "execution_count": 81,
   "id": "9f5eae78-aece-4cfe-aca9-cfc5ea5483f7",
   "metadata": {},
   "outputs": [],
   "source": [
    "aqi_unhealthy_ca = aqi_unhealthy[aqi_unhealthy['State Name'] == 'Colorado']"
   ]
  },
  {
   "cell_type": "code",
   "execution_count": 82,
   "id": "fe80332b-cdc4-4a38-8d51-caacc26bdd33",
   "metadata": {},
   "outputs": [],
   "source": [
    "counts_aqi_unhealthy_ca = aqi_unhealthy_ca.groupby('year').size().reset_index(name='count')"
   ]
  },
  {
   "cell_type": "code",
   "execution_count": 86,
   "id": "9d6c79b2-04d0-475b-99ad-d3f2fd75e230",
   "metadata": {},
   "outputs": [
    {
     "data": {
      "text/plain": [
       "<AxesSubplot:title={'center':'Number of Days with an AQI above 150 in Colorado \\nfrom 1980-2021'}, xlabel='year'>"
      ]
     },
     "execution_count": 86,
     "metadata": {},
     "output_type": "execute_result"
    },
    {
     "data": {
      "image/png": "[encoded data removed]",
      "text/plain": [
       "<Figure size 432x288 with 1 Axes>"
      ]
     },
     "metadata": {
      "needs_background": "light"
     },
     "output_type": "display_data"
    }
   ],
   "source": [
    "counts_aqi_unhealthy_ca.plot(x = 'year', \n",
    "                          y = 'count', \n",
    "                          legend = False, \n",
    "                          grid = True, \n",
    "                          title = 'Number of Days with an AQI above 150 in Colorado \\nfrom 1980-2021')"
   ]
  },
  {
   "cell_type": "markdown",
   "id": "a451033e-81d4-4bee-aa47-e17708628b6c",
   "metadata": {},
   "source": [
    "## Let's see what the trend is in New York"
   ]
  },
  {
   "cell_type": "code",
   "execution_count": 87,
   "id": "9c0c666c-2a2f-4567-8c99-e67494a6bec0",
   "metadata": {},
   "outputs": [
    {
     "data": {
      "text/plain": [
       "<AxesSubplot:title={'center':'Number of Days with an AQI above 150 in New York \\nfrom 1980-2021'}, xlabel='year'>"
      ]
     },
     "execution_count": 87,
     "metadata": {},
     "output_type": "execute_result"
    },
    {
     "data": {
      "image/png": "[encoded data removed]",
      "text/plain": [
       "<Figure size 432x288 with 1 Axes>"
      ]
     },
     "metadata": {
      "needs_background": "light"
     },
     "output_type": "display_data"
    }
   ],
   "source": [
    "aqi_unhealthy_ca = aqi_unhealthy[aqi_unhealthy['State Name'] == 'New York']\n",
    "counts_aqi_unhealthy_ca = aqi_unhealthy_ca.groupby('year').size().reset_index(name='count')\n",
    "counts_aqi_unhealthy_ca.plot(x = 'year', \n",
    "                          y = 'count', \n",
    "                          legend = False, \n",
    "                          grid = True, \n",
    "                          title = 'Number of Days with an AQI above 150 in New York \\nfrom 1980-2021')"
   ]
  },
  {
   "cell_type": "code",
   "execution_count": null,
   "id": "8e09f575-31b4-4305-9909-cecae4b30966",
   "metadata": {},
   "outputs": [],
   "source": []
  }
 ],
 "metadata": {
  "kernelspec": {
   "display_name": "Python 3 (ipykernel)",
   "language": "python",
   "name": "python3"
  },
  "language_info": {
   "codemirror_mode": {
    "name": "ipython",
    "version": 3
   },
   "file_extension": ".py",
   "mimetype": "text/x-python",
   "name": "python",
   "nbconvert_exporter": "python",
   "pygments_lexer": "ipython3",
   "version": "3.9.7"
  }
 },
 "nbformat": 4,
 "nbformat_minor": 5
}
