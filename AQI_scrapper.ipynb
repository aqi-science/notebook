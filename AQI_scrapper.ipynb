{
 "cells": [
  {
   "cell_type": "markdown",
   "id": "c7c2abdd-0c11-4e28-9c25-17c7e86ea59c",
   "metadata": {},
   "source": [
    "# Web Scrapping Compiled Yearly US AQI Data\n",
    " - https://aqs.epa.gov/aqsweb/airdata/download_files.html#AQI\n",
    " - https://aqs.epa.gov/aqsweb/airdata/download_files.html\n",
    " - https://aqs.epa.gov/aqsweb/documents/about_aqs_data.html\n",
    " - https://aqs.epa.gov/aqsweb/documents/data_api.html#variables\n",
    " \n",
    " "
   ]
  },
  {
   "cell_type": "code",
   "execution_count": 1,
   "id": "6bc002e8-8d6a-4d72-a4fd-1ecf57b81097",
   "metadata": {},
   "outputs": [],
   "source": [
    "import pandas as pd\n",
    "import numpy as np\n",
    "import zipfile\n",
    "\n",
    "# if error, No module named 'bs4', run --conda install beautifulsoup4-- in conda env\n",
    "from bs4 import BeautifulSoup \n",
    "\n",
    "from io import BytesIO\n",
    "from zipfile import ZipFile\n",
    "import requests\n",
    "from urllib.request import urlopen"
   ]
  },
  {
   "cell_type": "markdown",
   "id": "6484b8f4-e4e2-4697-8a3a-dd8d3a858ca5",
   "metadata": {},
   "source": [
    "## Web Scrap Download links"
   ]
  },
  {
   "cell_type": "code",
   "execution_count": 2,
   "id": "f26cc075-a318-4095-ad22-6d7e2d6fd495",
   "metadata": {},
   "outputs": [
    {
     "name": "stdout",
     "output_type": "stream",
     "text": [
      "['https://aqs.epa.gov/aqsweb/airdata/daily_aqi_by_county_2021.zip', 'https://aqs.epa.gov/aqsweb/airdata/daily_aqi_by_county_2020.zip', 'https://aqs.epa.gov/aqsweb/airdata/daily_aqi_by_county_2019.zip', 'https://aqs.epa.gov/aqsweb/airdata/daily_aqi_by_county_2018.zip', 'https://aqs.epa.gov/aqsweb/airdata/daily_aqi_by_county_2017.zip', 'https://aqs.epa.gov/aqsweb/airdata/daily_aqi_by_county_2016.zip', 'https://aqs.epa.gov/aqsweb/airdata/daily_aqi_by_county_2015.zip', 'https://aqs.epa.gov/aqsweb/airdata/daily_aqi_by_county_2014.zip', 'https://aqs.epa.gov/aqsweb/airdata/daily_aqi_by_county_2013.zip', 'https://aqs.epa.gov/aqsweb/airdata/daily_aqi_by_county_2012.zip', 'https://aqs.epa.gov/aqsweb/airdata/daily_aqi_by_county_2011.zip', 'https://aqs.epa.gov/aqsweb/airdata/daily_aqi_by_county_2010.zip', 'https://aqs.epa.gov/aqsweb/airdata/daily_aqi_by_county_2009.zip', 'https://aqs.epa.gov/aqsweb/airdata/daily_aqi_by_county_2008.zip', 'https://aqs.epa.gov/aqsweb/airdata/daily_aqi_by_county_2007.zip', 'https://aqs.epa.gov/aqsweb/airdata/daily_aqi_by_county_2006.zip', 'https://aqs.epa.gov/aqsweb/airdata/daily_aqi_by_county_2005.zip', 'https://aqs.epa.gov/aqsweb/airdata/daily_aqi_by_county_2004.zip', 'https://aqs.epa.gov/aqsweb/airdata/daily_aqi_by_county_2003.zip', 'https://aqs.epa.gov/aqsweb/airdata/daily_aqi_by_county_2002.zip', 'https://aqs.epa.gov/aqsweb/airdata/daily_aqi_by_county_2001.zip', 'https://aqs.epa.gov/aqsweb/airdata/daily_aqi_by_county_2000.zip', 'https://aqs.epa.gov/aqsweb/airdata/daily_aqi_by_county_1999.zip', 'https://aqs.epa.gov/aqsweb/airdata/daily_aqi_by_county_1998.zip', 'https://aqs.epa.gov/aqsweb/airdata/daily_aqi_by_county_1997.zip', 'https://aqs.epa.gov/aqsweb/airdata/daily_aqi_by_county_1996.zip', 'https://aqs.epa.gov/aqsweb/airdata/daily_aqi_by_county_1995.zip', 'https://aqs.epa.gov/aqsweb/airdata/daily_aqi_by_county_1994.zip', 'https://aqs.epa.gov/aqsweb/airdata/daily_aqi_by_county_1993.zip', 'https://aqs.epa.gov/aqsweb/airdata/daily_aqi_by_county_1992.zip', 'https://aqs.epa.gov/aqsweb/airdata/daily_aqi_by_county_1991.zip', 'https://aqs.epa.gov/aqsweb/airdata/daily_aqi_by_county_1990.zip', 'https://aqs.epa.gov/aqsweb/airdata/daily_aqi_by_county_1989.zip', 'https://aqs.epa.gov/aqsweb/airdata/daily_aqi_by_county_1988.zip', 'https://aqs.epa.gov/aqsweb/airdata/daily_aqi_by_county_1987.zip', 'https://aqs.epa.gov/aqsweb/airdata/daily_aqi_by_county_1986.zip', 'https://aqs.epa.gov/aqsweb/airdata/daily_aqi_by_county_1985.zip', 'https://aqs.epa.gov/aqsweb/airdata/daily_aqi_by_county_1984.zip', 'https://aqs.epa.gov/aqsweb/airdata/daily_aqi_by_county_1983.zip', 'https://aqs.epa.gov/aqsweb/airdata/daily_aqi_by_county_1982.zip', 'https://aqs.epa.gov/aqsweb/airdata/daily_aqi_by_county_1981.zip', 'https://aqs.epa.gov/aqsweb/airdata/daily_aqi_by_county_1980.zip']\n"
     ]
    }
   ],
   "source": [
    "# link to EPA website page for daily AQI values\n",
    "html_page = requests.get('https://aqs.epa.gov/aqsweb/airdata/download_files.html')\n",
    "soup = BeautifulSoup(html_page.content, 'html.parser')\n",
    "\n",
    "# find all a href links available on this page\n",
    "file_urls = soup.findAll('a', href=lambda href: href and href.startswith(\"daily_aqi_by_county_\"))\n",
    "links = ['https://aqs.epa.gov/aqsweb/airdata/'+link.get('href') for link in file_urls]\n",
    "print(links)"
   ]
  },
  {
   "cell_type": "markdown",
   "id": "fabb05f4-843b-4b7c-a6db-1a9e5d9a83e4",
   "metadata": {},
   "source": [
    "## Download, Unzip, and Compile"
   ]
  },
  {
   "cell_type": "code",
   "execution_count": 3,
   "id": "50d3bb92-5f31-4949-9942-e40eafeada2b",
   "metadata": {},
   "outputs": [
    {
     "name": "stdout",
     "output_type": "stream",
     "text": [
      "daily_aqi_by_county_2021.csv Completed\n",
      "daily_aqi_by_county_2020.csv Completed\n",
      "daily_aqi_by_county_2019.csv Completed\n",
      "daily_aqi_by_county_2018.csv Completed\n",
      "daily_aqi_by_county_2017.csv Completed\n",
      "daily_aqi_by_county_2016.csv Completed\n",
      "daily_aqi_by_county_2015.csv Completed\n",
      "daily_aqi_by_county_2014.csv Completed\n",
      "daily_aqi_by_county_2013.csv Completed\n",
      "daily_aqi_by_county_2012.csv Completed\n",
      "daily_aqi_by_county_2011.csv Completed\n",
      "daily_aqi_by_county_2010.csv Completed\n",
      "daily_aqi_by_county_2009.csv Completed\n",
      "daily_aqi_by_county_2008.csv Completed\n",
      "daily_aqi_by_county_2007.csv Completed\n",
      "daily_aqi_by_county_2006.csv Completed\n",
      "daily_aqi_by_county_2005.csv Completed\n",
      "daily_aqi_by_county_2004.csv Completed\n",
      "daily_aqi_by_county_2003.csv Completed\n",
      "daily_aqi_by_county_2002.csv Completed\n",
      "daily_aqi_by_county_2001.csv Completed\n",
      "daily_aqi_by_county_2000.csv Completed\n",
      "daily_aqi_by_county_1999.csv Completed\n",
      "daily_aqi_by_county_1998.csv Completed\n",
      "daily_aqi_by_county_1997.csv Completed\n",
      "daily_aqi_by_county_1996.csv Completed\n",
      "daily_aqi_by_county_1995.csv Completed\n",
      "daily_aqi_by_county_1994.csv Completed\n",
      "daily_aqi_by_county_1993.csv Completed\n",
      "daily_aqi_by_county_1992.csv Completed\n",
      "daily_aqi_by_county_1991.csv Completed\n",
      "daily_aqi_by_county_1990.csv Completed\n",
      "daily_aqi_by_county_1989.csv Completed\n",
      "daily_aqi_by_county_1988.csv Completed\n",
      "daily_aqi_by_county_1987.csv Completed\n",
      "daily_aqi_by_county_1986.csv Completed\n",
      "daily_aqi_by_county_1985.csv Completed\n",
      "daily_aqi_by_county_1984.csv Completed\n",
      "daily_aqi_by_county_1983.csv Completed\n",
      "daily_aqi_by_county_1982.csv Completed\n",
      "daily_aqi_by_county_1981.csv Completed\n",
      "daily_aqi_by_county_1980.csv Completed\n"
     ]
    }
   ],
   "source": [
    "# initiating a dataframe\n",
    "aqi_df = pd.DataFrame()\n",
    "\n",
    "#forloop to download, unzip, and compile df\n",
    "for link in links:\n",
    "    \n",
    "    # open url\n",
    "    resp = urlopen(link)\n",
    "    \n",
    "    # read zipfile\n",
    "    zipfile = ZipFile(BytesIO(resp.read()))\n",
    "    \n",
    "    # get the csv file name\n",
    "    fname = zipfile.namelist()[0]\n",
    "    \n",
    "    # convert to pandas dateframe\n",
    "    df = pd.read_csv(zipfile.open(fname), dtype=object)\n",
    "    \n",
    "    # close zipfile we don't need\n",
    "    zipfile.close()\n",
    "    \n",
    "    # concatenate dataframes\n",
    "    aqi_df = pd.concat([aqi_df, df], ignore_index=True, sort=False)\n",
    "    \n",
    "    # let me know how much it is completed.\n",
    "    print(f'{fname} Completed')"
   ]
  },
  {
   "cell_type": "markdown",
   "id": "2f9b314b-9c89-40ec-8fff-5d5f9f148dae",
   "metadata": {},
   "source": [
    "## Export dataset\n",
    " - added to data folder which is in .gitignore"
   ]
  },
  {
   "cell_type": "code",
   "execution_count": 4,
   "id": "2e89f8e9-d042-4f49-ab1e-9f52985e1ef8",
   "metadata": {},
   "outputs": [],
   "source": [
    "aqi_df.to_csv('data/aqi_df.csv')"
   ]
  },
  {
   "cell_type": "markdown",
   "id": "fa93db52-210b-4650-9e38-7e8a3d892e8e",
   "metadata": {},
   "source": [
    "# Objective\n",
    "\n",
    "#### For an analysis of air quality changes in New York City, we plan to look at the AQI data during the COVID-19 lockdowns during March and April of 2020. This will be compared to AQI data during the same months in years prior. \n",
    "\n",
    "Start Date: March 1, 2020\n",
    "<br>\n",
    "End Date: March 1, 2021"
   ]
  },
  {
   "cell_type": "markdown",
   "id": "d8fb3245-6233-43b0-98b7-ea7543fd833d",
   "metadata": {},
   "source": [
    "# Read in Dataset"
   ]
  },
  {
   "cell_type": "code",
   "execution_count": 3,
   "id": "7963880f-bbc5-4f6a-902e-61203c16ff9a",
   "metadata": {},
   "outputs": [],
   "source": [
    "# US daily AQI data from 1980-01-01 to 2021-05-18\n",
    "aqi=pd.read_csv('data/aqi_df.csv', usecols={'State Name',\n",
    "                                            'county Name',\n",
    "                                            'Date',\n",
    "                                            'AQI',\n",
    "                                            'Category',\n",
    "                                            'Defining Parameter',\n",
    "                                            'Defining Site',\n",
    "                                            'Number of Sites Reporting'})\n",
    "\n",
    "# set columns to strings to keep leading zeros\n",
    "dtype_dic= {'State Code':str,\n",
    "            'County Code':str,\n",
    "            'Site Number':str}\n",
    "dtype = dtype_dic\n",
    "\n",
    "# AQI monitor locations\n",
    "monitors=pd.read_csv('data/aqs_monitors.csv', usecols ={'State Code',\n",
    "                                                        'County Code',\n",
    "                                                        'Site Number',\n",
    "                                                        'Latitude',\n",
    "                                                        'Longitude',\n",
    "                                                        'Monitor Type'},\n",
    "                    dtype=dtype_dic)"
   ]
  },
  {
   "cell_type": "code",
   "execution_count": 4,
   "id": "f10c0c65-10fe-4048-9417-0ea96ff9b2e1",
   "metadata": {},
   "outputs": [
    {
     "name": "stdout",
     "output_type": "stream",
     "text": [
      "State Code       object\n",
      "County Code      object\n",
      "Site Number      object\n",
      "Latitude        float64\n",
      "Longitude       float64\n",
      "Monitor Type     object\n",
      "dtype: object\n",
      "\n",
      "State Name                   object\n",
      "county Name                  object\n",
      "Date                         object\n",
      "AQI                           int64\n",
      "Category                     object\n",
      "Defining Parameter           object\n",
      "Defining Site                object\n",
      "Number of Sites Reporting     int64\n",
      "dtype: object\n"
     ]
    }
   ],
   "source": [
    "# data types of columns\n",
    "print(monitors.dtypes)\n",
    "print(\"\")\n",
    "print(aqi.dtypes)"
   ]
  },
  {
   "cell_type": "code",
   "execution_count": 5,
   "id": "8e3dd349-e289-40a9-8407-b73e772a94e8",
   "metadata": {},
   "outputs": [],
   "source": [
    "# combine columns together to get site number\n",
    "monitors['Defining Site']=(monitors['State Code']+'-'+\n",
    "                           monitors['County Code']+'-'+\n",
    "                           monitors['Site Number'])"
   ]
  },
  {
   "cell_type": "code",
   "execution_count": 23,
   "id": "72e2aefe-9d0a-4def-ae5d-21fed6a1ac8c",
   "metadata": {},
   "outputs": [
    {
     "data": {
      "text/html": [
       "<div>\n",
       "<style scoped>\n",
       "    .dataframe tbody tr th:only-of-type {\n",
       "        vertical-align: middle;\n",
       "    }\n",
       "\n",
       "    .dataframe tbody tr th {\n",
       "        vertical-align: top;\n",
       "    }\n",
       "\n",
       "    .dataframe thead th {\n",
       "        text-align: right;\n",
       "    }\n",
       "</style>\n",
       "<table border=\"1\" class=\"dataframe\">\n",
       "  <thead>\n",
       "    <tr style=\"text-align: right;\">\n",
       "      <th></th>\n",
       "      <th>State Code</th>\n",
       "      <th>County Code</th>\n",
       "      <th>Site Number</th>\n",
       "      <th>Latitude</th>\n",
       "      <th>Longitude</th>\n",
       "      <th>Monitor Type</th>\n",
       "      <th>Defining Site</th>\n",
       "    </tr>\n",
       "  </thead>\n",
       "  <tbody>\n",
       "    <tr>\n",
       "      <th>0</th>\n",
       "      <td>01</td>\n",
       "      <td>001</td>\n",
       "      <td>0001</td>\n",
       "      <td>32.437458</td>\n",
       "      <td>-86.472891</td>\n",
       "      <td>OTHER</td>\n",
       "      <td>01-001-0001</td>\n",
       "    </tr>\n",
       "    <tr>\n",
       "      <th>1</th>\n",
       "      <td>01</td>\n",
       "      <td>001</td>\n",
       "      <td>0001</td>\n",
       "      <td>32.437458</td>\n",
       "      <td>-86.472891</td>\n",
       "      <td>OTHER</td>\n",
       "      <td>01-001-0001</td>\n",
       "    </tr>\n",
       "    <tr>\n",
       "      <th>2</th>\n",
       "      <td>01</td>\n",
       "      <td>001</td>\n",
       "      <td>0002</td>\n",
       "      <td>32.428470</td>\n",
       "      <td>-86.443585</td>\n",
       "      <td>SLAMS</td>\n",
       "      <td>01-001-0002</td>\n",
       "    </tr>\n",
       "    <tr>\n",
       "      <th>3</th>\n",
       "      <td>01</td>\n",
       "      <td>001</td>\n",
       "      <td>0002</td>\n",
       "      <td>32.428470</td>\n",
       "      <td>-86.443585</td>\n",
       "      <td>SLAMS</td>\n",
       "      <td>01-001-0002</td>\n",
       "    </tr>\n",
       "    <tr>\n",
       "      <th>4</th>\n",
       "      <td>01</td>\n",
       "      <td>001</td>\n",
       "      <td>0003</td>\n",
       "      <td>32.332659</td>\n",
       "      <td>-86.791521</td>\n",
       "      <td>OTHER</td>\n",
       "      <td>01-001-0003</td>\n",
       "    </tr>\n",
       "  </tbody>\n",
       "</table>\n",
       "</div>"
      ],
      "text/plain": [
       "  State Code County Code Site Number   Latitude  Longitude Monitor Type  \\\n",
       "0         01         001        0001  32.437458 -86.472891        OTHER   \n",
       "1         01         001        0001  32.437458 -86.472891        OTHER   \n",
       "2         01         001        0002  32.428470 -86.443585        SLAMS   \n",
       "3         01         001        0002  32.428470 -86.443585        SLAMS   \n",
       "4         01         001        0003  32.332659 -86.791521        OTHER   \n",
       "\n",
       "  Defining Site  \n",
       "0   01-001-0001  \n",
       "1   01-001-0001  \n",
       "2   01-001-0002  \n",
       "3   01-001-0002  \n",
       "4   01-001-0003  "
      ]
     },
     "execution_count": 23,
     "metadata": {},
     "output_type": "execute_result"
    }
   ],
   "source": [
    "monitors.head()"
   ]
  },
  {
   "cell_type": "code",
   "execution_count": 24,
   "id": "1be5d296-cdef-4320-9796-c956e78a98e7",
   "metadata": {},
   "outputs": [
    {
     "data": {
      "text/plain": [
       "356777"
      ]
     },
     "execution_count": 24,
     "metadata": {},
     "output_type": "execute_result"
    }
   ],
   "source": [
    "monitors.shape[0]"
   ]
  },
  {
   "cell_type": "code",
   "execution_count": 25,
   "id": "0012b8e5-e8d5-4eb7-a5a0-0b3535492926",
   "metadata": {},
   "outputs": [
    {
     "data": {
      "text/plain": [
       "11392510"
      ]
     },
     "execution_count": 25,
     "metadata": {},
     "output_type": "execute_result"
    }
   ],
   "source": [
    "aqi.shape[0]"
   ]
  },
  {
   "cell_type": "code",
   "execution_count": 26,
   "id": "9e3c9110-ac89-419b-8576-d1a3066c6d80",
   "metadata": {},
   "outputs": [
    {
     "data": {
      "text/html": [
       "<div>\n",
       "<style scoped>\n",
       "    .dataframe tbody tr th:only-of-type {\n",
       "        vertical-align: middle;\n",
       "    }\n",
       "\n",
       "    .dataframe tbody tr th {\n",
       "        vertical-align: top;\n",
       "    }\n",
       "\n",
       "    .dataframe thead th {\n",
       "        text-align: right;\n",
       "    }\n",
       "</style>\n",
       "<table border=\"1\" class=\"dataframe\">\n",
       "  <thead>\n",
       "    <tr style=\"text-align: right;\">\n",
       "      <th></th>\n",
       "      <th>State Name</th>\n",
       "      <th>county Name</th>\n",
       "      <th>Date</th>\n",
       "      <th>AQI</th>\n",
       "      <th>Category</th>\n",
       "      <th>Defining Parameter</th>\n",
       "      <th>Defining Site</th>\n",
       "      <th>Number of Sites Reporting</th>\n",
       "    </tr>\n",
       "  </thead>\n",
       "  <tbody>\n",
       "    <tr>\n",
       "      <th>0</th>\n",
       "      <td>Alabama</td>\n",
       "      <td>DeKalb</td>\n",
       "      <td>2021-01-01</td>\n",
       "      <td>30</td>\n",
       "      <td>Good</td>\n",
       "      <td>Ozone</td>\n",
       "      <td>01-049-9991</td>\n",
       "      <td>1</td>\n",
       "    </tr>\n",
       "    <tr>\n",
       "      <th>1</th>\n",
       "      <td>Alabama</td>\n",
       "      <td>DeKalb</td>\n",
       "      <td>2021-01-02</td>\n",
       "      <td>27</td>\n",
       "      <td>Good</td>\n",
       "      <td>Ozone</td>\n",
       "      <td>01-049-9991</td>\n",
       "      <td>1</td>\n",
       "    </tr>\n",
       "    <tr>\n",
       "      <th>2</th>\n",
       "      <td>Alabama</td>\n",
       "      <td>DeKalb</td>\n",
       "      <td>2021-01-03</td>\n",
       "      <td>34</td>\n",
       "      <td>Good</td>\n",
       "      <td>Ozone</td>\n",
       "      <td>01-049-9991</td>\n",
       "      <td>1</td>\n",
       "    </tr>\n",
       "    <tr>\n",
       "      <th>3</th>\n",
       "      <td>Alabama</td>\n",
       "      <td>DeKalb</td>\n",
       "      <td>2021-01-04</td>\n",
       "      <td>36</td>\n",
       "      <td>Good</td>\n",
       "      <td>Ozone</td>\n",
       "      <td>01-049-9991</td>\n",
       "      <td>1</td>\n",
       "    </tr>\n",
       "    <tr>\n",
       "      <th>4</th>\n",
       "      <td>Alabama</td>\n",
       "      <td>DeKalb</td>\n",
       "      <td>2021-01-05</td>\n",
       "      <td>31</td>\n",
       "      <td>Good</td>\n",
       "      <td>Ozone</td>\n",
       "      <td>01-049-9991</td>\n",
       "      <td>1</td>\n",
       "    </tr>\n",
       "  </tbody>\n",
       "</table>\n",
       "</div>"
      ],
      "text/plain": [
       "  State Name county Name        Date  AQI Category Defining Parameter  \\\n",
       "0    Alabama      DeKalb  2021-01-01   30     Good              Ozone   \n",
       "1    Alabama      DeKalb  2021-01-02   27     Good              Ozone   \n",
       "2    Alabama      DeKalb  2021-01-03   34     Good              Ozone   \n",
       "3    Alabama      DeKalb  2021-01-04   36     Good              Ozone   \n",
       "4    Alabama      DeKalb  2021-01-05   31     Good              Ozone   \n",
       "\n",
       "  Defining Site  Number of Sites Reporting  \n",
       "0   01-049-9991                          1  \n",
       "1   01-049-9991                          1  \n",
       "2   01-049-9991                          1  \n",
       "3   01-049-9991                          1  \n",
       "4   01-049-9991                          1  "
      ]
     },
     "execution_count": 26,
     "metadata": {},
     "output_type": "execute_result"
    }
   ],
   "source": [
    "aqi.head()"
   ]
  },
  {
   "cell_type": "code",
   "execution_count": 6,
   "id": "f02d68fc-05be-41d5-a91a-194fb5b9eed4",
   "metadata": {},
   "outputs": [],
   "source": [
    "# select specific states to compare\n",
    "\n",
    "states = ['New York','California','Utah']\n",
    "aqi_subset=aqi.loc[aqi['State Name'].isin(states)]"
   ]
  },
  {
   "cell_type": "code",
   "execution_count": 7,
   "id": "bbeaf00c-c5e8-4b08-b771-a0d38e2f7c20",
   "metadata": {},
   "outputs": [],
   "source": [
    "# merge datasets\n",
    "aqi_df = aqi_subset.merge(monitors, on='Defining Site', how='left')"
   ]
  },
  {
   "cell_type": "code",
   "execution_count": 19,
   "id": "c9ffd195-7bea-4bda-8203-e30ac33acae4",
   "metadata": {},
   "outputs": [
    {
     "data": {
      "text/html": [
       "<div>\n",
       "<style scoped>\n",
       "    .dataframe tbody tr th:only-of-type {\n",
       "        vertical-align: middle;\n",
       "    }\n",
       "\n",
       "    .dataframe tbody tr th {\n",
       "        vertical-align: top;\n",
       "    }\n",
       "\n",
       "    .dataframe thead th {\n",
       "        text-align: right;\n",
       "    }\n",
       "</style>\n",
       "<table border=\"1\" class=\"dataframe\">\n",
       "  <thead>\n",
       "    <tr style=\"text-align: right;\">\n",
       "      <th></th>\n",
       "      <th>State Name</th>\n",
       "      <th>county Name</th>\n",
       "      <th>County Code_x</th>\n",
       "      <th>Date</th>\n",
       "      <th>AQI</th>\n",
       "      <th>Category</th>\n",
       "      <th>Defining Parameter</th>\n",
       "      <th>Defining Site</th>\n",
       "      <th>Number of Sites Reporting</th>\n",
       "      <th>State Code</th>\n",
       "      <th>County Code_y</th>\n",
       "      <th>Site Number</th>\n",
       "      <th>Latitude</th>\n",
       "      <th>Longitude</th>\n",
       "      <th>Monitor Type</th>\n",
       "    </tr>\n",
       "  </thead>\n",
       "  <tbody>\n",
       "    <tr>\n",
       "      <th>0</th>\n",
       "      <td>California</td>\n",
       "      <td>Colusa</td>\n",
       "      <td>11</td>\n",
       "      <td>2021-01-16</td>\n",
       "      <td>10</td>\n",
       "      <td>Good</td>\n",
       "      <td>PM2.5</td>\n",
       "      <td>06-011-0007</td>\n",
       "      <td>1</td>\n",
       "      <td>06</td>\n",
       "      <td>011</td>\n",
       "      <td>0007</td>\n",
       "      <td>39.021221</td>\n",
       "      <td>-122.281803</td>\n",
       "      <td>TRIBAL</td>\n",
       "    </tr>\n",
       "    <tr>\n",
       "      <th>1</th>\n",
       "      <td>California</td>\n",
       "      <td>Colusa</td>\n",
       "      <td>11</td>\n",
       "      <td>2021-01-16</td>\n",
       "      <td>10</td>\n",
       "      <td>Good</td>\n",
       "      <td>PM2.5</td>\n",
       "      <td>06-011-0007</td>\n",
       "      <td>1</td>\n",
       "      <td>06</td>\n",
       "      <td>011</td>\n",
       "      <td>0007</td>\n",
       "      <td>39.021221</td>\n",
       "      <td>-122.281803</td>\n",
       "      <td>TRIBAL</td>\n",
       "    </tr>\n",
       "    <tr>\n",
       "      <th>2</th>\n",
       "      <td>California</td>\n",
       "      <td>Colusa</td>\n",
       "      <td>11</td>\n",
       "      <td>2021-01-16</td>\n",
       "      <td>10</td>\n",
       "      <td>Good</td>\n",
       "      <td>PM2.5</td>\n",
       "      <td>06-011-0007</td>\n",
       "      <td>1</td>\n",
       "      <td>06</td>\n",
       "      <td>011</td>\n",
       "      <td>0007</td>\n",
       "      <td>39.021221</td>\n",
       "      <td>-122.281803</td>\n",
       "      <td>TRIBAL</td>\n",
       "    </tr>\n",
       "    <tr>\n",
       "      <th>3</th>\n",
       "      <td>California</td>\n",
       "      <td>Colusa</td>\n",
       "      <td>11</td>\n",
       "      <td>2021-01-17</td>\n",
       "      <td>0</td>\n",
       "      <td>Good</td>\n",
       "      <td>PM2.5</td>\n",
       "      <td>06-011-0007</td>\n",
       "      <td>1</td>\n",
       "      <td>06</td>\n",
       "      <td>011</td>\n",
       "      <td>0007</td>\n",
       "      <td>39.021221</td>\n",
       "      <td>-122.281803</td>\n",
       "      <td>TRIBAL</td>\n",
       "    </tr>\n",
       "    <tr>\n",
       "      <th>4</th>\n",
       "      <td>California</td>\n",
       "      <td>Colusa</td>\n",
       "      <td>11</td>\n",
       "      <td>2021-01-17</td>\n",
       "      <td>0</td>\n",
       "      <td>Good</td>\n",
       "      <td>PM2.5</td>\n",
       "      <td>06-011-0007</td>\n",
       "      <td>1</td>\n",
       "      <td>06</td>\n",
       "      <td>011</td>\n",
       "      <td>0007</td>\n",
       "      <td>39.021221</td>\n",
       "      <td>-122.281803</td>\n",
       "      <td>TRIBAL</td>\n",
       "    </tr>\n",
       "  </tbody>\n",
       "</table>\n",
       "</div>"
      ],
      "text/plain": [
       "   State Name county Name  County Code_x        Date  AQI Category  \\\n",
       "0  California      Colusa             11  2021-01-16   10     Good   \n",
       "1  California      Colusa             11  2021-01-16   10     Good   \n",
       "2  California      Colusa             11  2021-01-16   10     Good   \n",
       "3  California      Colusa             11  2021-01-17    0     Good   \n",
       "4  California      Colusa             11  2021-01-17    0     Good   \n",
       "\n",
       "  Defining Parameter Defining Site  Number of Sites Reporting State Code  \\\n",
       "0              PM2.5   06-011-0007                          1         06   \n",
       "1              PM2.5   06-011-0007                          1         06   \n",
       "2              PM2.5   06-011-0007                          1         06   \n",
       "3              PM2.5   06-011-0007                          1         06   \n",
       "4              PM2.5   06-011-0007                          1         06   \n",
       "\n",
       "  County Code_y Site Number   Latitude   Longitude Monitor Type  \n",
       "0           011        0007  39.021221 -122.281803       TRIBAL  \n",
       "1           011        0007  39.021221 -122.281803       TRIBAL  \n",
       "2           011        0007  39.021221 -122.281803       TRIBAL  \n",
       "3           011        0007  39.021221 -122.281803       TRIBAL  \n",
       "4           011        0007  39.021221 -122.281803       TRIBAL  "
      ]
     },
     "execution_count": 19,
     "metadata": {},
     "output_type": "execute_result"
    }
   ],
   "source": [
    "aqi_df.head()"
   ]
  },
  {
   "cell_type": "code",
   "execution_count": 8,
   "id": "91c0154d-feb4-4c3f-b613-426637e595be",
   "metadata": {},
   "outputs": [
    {
     "data": {
      "text/plain": [
       "array(['California', 'New York', 'Utah'], dtype=object)"
      ]
     },
     "execution_count": 8,
     "metadata": {},
     "output_type": "execute_result"
    }
   ],
   "source": [
    "aqi_df['State Name'].unique()"
   ]
  },
  {
   "cell_type": "code",
   "execution_count": 31,
   "id": "c95844b2-99a4-4783-a38f-89ae143efa2e",
   "metadata": {},
   "outputs": [],
   "source": [
    "## convert to geodataframe\n",
    "\n",
    "\n"
   ]
  },
  {
   "cell_type": "code",
   "execution_count": null,
   "id": "9038af42-8455-4c84-b195-a3baffa9735a",
   "metadata": {},
   "outputs": [],
   "source": []
  },
  {
   "cell_type": "code",
   "execution_count": null,
   "id": "e08c496a-6955-4491-8c29-98ea9a899ec9",
   "metadata": {},
   "outputs": [],
   "source": [
    "aqi.head()"
   ]
  },
  {
   "cell_type": "code",
   "execution_count": null,
   "id": "ed30e02c-f0f9-4b06-9806-8d263182e847",
   "metadata": {},
   "outputs": [],
   "source": [
    "# format date as datetime\n",
    "aqi_df['Date']=pd.to_datetime(aqi_df['Date'], format = '%Y-%m-%d')"
   ]
  },
  {
   "cell_type": "code",
   "execution_count": null,
   "id": "e06ab88e-77f9-418d-ae70-0ce71a4d79e1",
   "metadata": {},
   "outputs": [],
   "source": [
    "\n",
    "plt.figure(figsize=(10, 6), dpi=300)    # create a new figure, set size and resolution (dpi)\n",
    "plt.scatter(aqi_df['Date'], aqi_df['AQI'], c=aqi_df['Category'])  # add data to the plot\n",
    "\n",
    "#plt.legend(scatterpoints=1, handles='County Code', frameon=False, labelspacing=1, title='County Code')\n",
    "\n",
    "plt.title('1980-2021 Daily AQI in California, Ney York, and Utah', fontsize=16)\n",
    "plt.xlabel('Date', fontsize=14)\n",
    "plt.ylabel('AQI', fontsize=14)\n",
    "plt.xlim([np.datetime64('2020-01-01'), np.datetime64('2020-12-31')])\n",
    "plt.ylim(0,500)"
   ]
  }
 ],
 "metadata": {
  "kernelspec": {
   "display_name": "Python 3",
   "language": "python",
   "name": "python3"
  },
  "language_info": {
   "codemirror_mode": {
    "name": "ipython",
    "version": 3
   },
   "file_extension": ".py",
   "mimetype": "text/x-python",
   "name": "python",
   "nbconvert_exporter": "python",
   "pygments_lexer": "ipython3",
   "version": "3.8.8"
  }
 },
 "nbformat": 4,
 "nbformat_minor": 5
}
